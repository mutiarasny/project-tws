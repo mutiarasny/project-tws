{
 "cells": [
  {
   "cell_type": "code",
   "execution_count": null,
   "id": "501b56f6-85f4-4ff7-b7a0-264122a47f50",
   "metadata": {},
   "outputs": [],
   "source": [
    "from pycaret.datasets import get_data\n",
    "from pycaret.classification import *\n",
    "import pandas as pd\n",
    "from pandas_profiling import ProfileReport\n",
    "\n",
    "\n",
    "data = pd.read_csv(\"Sleep_health_and_lifestyle_dataset.csv\")\n",
    "Dataset = data.iloc[:, 1:]\n",
    "Dataset"
   ]
  },
  {
   "cell_type": "code",
   "execution_count": null,
   "id": "69970a82",
   "metadata": {},
   "outputs": [],
   "source": [
    "Dataset.dtypes"
   ]
  },
  {
   "cell_type": "code",
   "execution_count": null,
   "id": "6b836e6d",
   "metadata": {},
   "outputs": [],
   "source": [
    "# Pisahkan kolom blood_pressure menjadi dua kolom: systole dan diastole\n",
    "Dataset[['systole', 'diastole']] = Dataset['Blood Pressure'].str.split('/', expand=True)\n",
    "\n",
    "# Konversi kolom systole dan diastole ke tipe data numerik\n",
    "Dataset['systole'] = pd.to_numeric(Dataset['systole'])\n",
    "Dataset['diastole'] = pd.to_numeric(Dataset['diastole'])\n",
    "\n",
    "# Hapus kolom asli blood_pressure jika tidak diperlukan lagi\n",
    "Dataset = Dataset.drop(columns=['Blood Pressure'])\n",
    "\n",
    "Dataset"
   ]
  },
  {
   "cell_type": "code",
   "execution_count": null,
   "id": "ac63d358-0898-46b9-bb69-b1db62cb1558",
   "metadata": {},
   "outputs": [],
   "source": [
    "Dataset = Dataset.dropna(subset=['Sleep Disorder'])\n",
    "s = setup(Dataset, target = 'Sleep Disorder', session_id = 123, \n",
    "        categorical_features = ['Gender', 'BMI Category'], ignore_features=['Occupation'])"
   ]
  },
  {
   "cell_type": "code",
   "execution_count": null,
   "id": "b0b622ed-5b9d-4f01-9650-26ce07269165",
   "metadata": {},
   "outputs": [],
   "source": [
    "best = compare_models()"
   ]
  },
  {
   "cell_type": "code",
   "execution_count": null,
   "id": "d8347064-7b1f-4b5c-b4c0-f491b696f894",
   "metadata": {},
   "outputs": [],
   "source": [
    "model = tune_model(best)"
   ]
  },
  {
   "cell_type": "code",
   "execution_count": null,
   "id": "9ce51867-6d39-4962-be31-5228c4a4199e",
   "metadata": {},
   "outputs": [],
   "source": [
    "evaluate_model(model)"
   ]
  },
  {
   "cell_type": "code",
   "execution_count": null,
   "id": "334181ff-7a7f-4267-97c1-966cf712adea",
   "metadata": {},
   "outputs": [],
   "source": [
    "finalize_model(model)"
   ]
  },
  {
   "cell_type": "code",
   "execution_count": null,
   "id": "e2885c75-4795-4299-bb41-8f59dd825a20",
   "metadata": {},
   "outputs": [],
   "source": [
    "save_model(model, 'SleepHealth_pipeline')"
   ]
  }
 ],
 "metadata": {
  "kernelspec": {
   "display_name": "Python 3 (ipykernel)",
   "language": "python",
   "name": "python3"
  },
  "language_info": {
   "codemirror_mode": {
    "name": "ipython",
    "version": 3
   },
   "file_extension": ".py",
   "mimetype": "text/x-python",
   "name": "python",
   "nbconvert_exporter": "python",
   "pygments_lexer": "ipython3",
   "version": "3.11.0"
  }
 },
 "nbformat": 4,
 "nbformat_minor": 5
}
